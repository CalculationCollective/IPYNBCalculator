{
 "cells": [
  {
   "attachments": {},
   "cell_type": "markdown",
   "metadata": {},
   "source": [
    "# IPYNBCalculator"
   ]
  },
  {
   "attachments": {},
   "cell_type": "markdown",
   "metadata": {},
   "source": [
    "First we ask the user input the calculation."
   ]
  },
  {
   "cell_type": "code",
   "execution_count": 1,
   "metadata": {
    "ExecuteTime": {
     "start_time": "2023-04-09T03:01:47.981168Z",
     "end_time": "2023-04-09T03:01:53.515823Z"
    }
   },
   "outputs": [],
   "source": [
    "num1 = float(input(\"Enter the first number: \"))\n",
    "calculation_type  = input(\"Choose between:\\n1) Addition\\n2) Subtraction\\n3) Multiplication\\n4) Division\\n: \")\n",
    "num2 = float(input(\"Enter the second number: \"))"
   ]
  },
  {
   "attachments": {},
   "cell_type": "markdown",
   "metadata": {},
   "source": [
    "After that we run the entered calculation and print the result."
   ]
  },
  {
   "cell_type": "code",
   "execution_count": 2,
   "metadata": {
    "ExecuteTime": {
     "start_time": "2023-04-09T03:01:53.490822Z",
     "end_time": "2023-04-09T03:01:53.523826Z"
    }
   },
   "outputs": [
    {
     "name": "stdout",
     "output_type": "stream",
     "text": [
      "2.0\n"
     ]
    }
   ],
   "source": [
    "if calculation_type == \"1\":\n",
    "    print(num1 + num2)\n",
    "\n",
    "elif calculation_type == \"2\":\n",
    "    print(num1 - num2)\n",
    "\n",
    "elif calculation_type == \"3\":\n",
    "    print(num1 * num2)\n",
    "\n",
    "elif calculation_type == \"4\":\n",
    "    print(num1 / num2)\n",
    "\n",
    "else:\n",
    "    print(f\"{calculation_type} is not a valid function.\")"
   ]
  }
 ],
 "metadata": {
  "kernelspec": {
   "display_name": "Python 3",
   "language": "python",
   "name": "python3"
  },
  "language_info": {
   "codemirror_mode": {
    "name": "ipython",
    "version": 3
   },
   "file_extension": ".py",
   "mimetype": "text/x-python",
   "name": "python",
   "nbconvert_exporter": "python",
   "pygments_lexer": "ipython3",
   "version": "3.9.13"
  },
  "orig_nbformat": 4
 },
 "nbformat": 4,
 "nbformat_minor": 2
}
